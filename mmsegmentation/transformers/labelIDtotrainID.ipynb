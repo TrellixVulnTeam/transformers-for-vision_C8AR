{
 "cells": [
  {
   "cell_type": "code",
   "execution_count": 1,
   "id": "86d5c5e0",
   "metadata": {},
   "outputs": [],
   "source": [
    "# Mapping of ignore categories and valid ones (numbered from 1-19)\n",
    "mapping_20 = { \n",
    "        0: 0,\n",
    "        1: 0,\n",
    "        2: 0,\n",
    "        3: 0,\n",
    "        4: 0,\n",
    "        5: 0,\n",
    "        6: 0,\n",
    "        7: 1,\n",
    "        8: 2,\n",
    "        9: 0,\n",
    "        10: 0,\n",
    "        11: 3,\n",
    "        12: 4,\n",
    "        13: 5,\n",
    "        14: 0,\n",
    "        15: 0,\n",
    "        16: 0,\n",
    "        17: 6,\n",
    "        18: 0,\n",
    "        19: 7,\n",
    "        20: 8,\n",
    "        21: 9,\n",
    "        22: 10,\n",
    "        23: 11,\n",
    "        24: 12,\n",
    "        25: 13,\n",
    "        26: 14,\n",
    "        27: 15,\n",
    "        28: 16,\n",
    "        29: 0,\n",
    "        30: 0,\n",
    "        31: 17,\n",
    "        32: 18,\n",
    "        33: 19,\n",
    "        -1: 0\n",
    "}"
   ]
  },
  {
   "cell_type": "code",
   "execution_count": 3,
   "id": "11786f36",
   "metadata": {},
   "outputs": [],
   "source": [
    "import cv2\n",
    "import mmcv\n",
    "import os.path as osp\n",
    "import numpy as np\n",
    "from PIL import Image\n",
    "\n",
    "data_root = 'Cityscapes'\n",
    "img_dir = 'images'\n",
    "ann_dir = 'labels/val'\n",
    "save_dir = 'labels/val'\n",
    "\n",
    "for file in mmcv.scandir(osp.join(data_root, ann_dir), suffix='labelIds.png'):\n",
    "    image = Image.open(osp.join(data_root, ann_dir, file))\n",
    "    image = np.asarray(image)\n",
    "    for k in mapping_20:\n",
    "        image[image == k] = mapping_20[k]\n",
    "    cv2.imwrite(osp.join(data_root, save_dir, file), image)"
   ]
  },
  {
   "cell_type": "code",
   "execution_count": null,
   "id": "24715120",
   "metadata": {},
   "outputs": [],
   "source": []
  }
 ],
 "metadata": {
  "kernelspec": {
   "display_name": "Python 3 (ipykernel)",
   "language": "python",
   "name": "python3"
  },
  "language_info": {
   "codemirror_mode": {
    "name": "ipython",
    "version": 3
   },
   "file_extension": ".py",
   "mimetype": "text/x-python",
   "name": "python",
   "nbconvert_exporter": "python",
   "pygments_lexer": "ipython3",
   "version": "3.7.11"
  }
 },
 "nbformat": 4,
 "nbformat_minor": 5
}
