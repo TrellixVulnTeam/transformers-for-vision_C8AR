{
 "cells": [
  {
   "cell_type": "code",
   "execution_count": null,
   "id": "ceb77278",
   "metadata": {},
   "outputs": [],
   "source": [
    "import pandas as pd\n",
    "\n",
    "object = pd.read_pickle(r'evaluation.pkl')"
   ]
  },
  {
   "cell_type": "code",
   "execution_count": null,
   "id": "9516387f",
   "metadata": {},
   "outputs": [],
   "source": [
    "import pickle\n",
    "with open('evaluation.pkl', 'rb') as f:\n",
    "    x = pickle.load(f)\n"
   ]
  },
  {
   "cell_type": "code",
   "execution_count": null,
   "id": "cab5386f",
   "metadata": {},
   "outputs": [],
   "source": []
  }
 ],
 "metadata": {
  "kernelspec": {
   "display_name": "Python 3 (ipykernel)",
   "language": "python",
   "name": "python3"
  },
  "language_info": {
   "codemirror_mode": {
    "name": "ipython",
    "version": 3
   },
   "file_extension": ".py",
   "mimetype": "text/x-python",
   "name": "python",
   "nbconvert_exporter": "python",
   "pygments_lexer": "ipython3",
   "version": "3.7.11"
  }
 },
 "nbformat": 4,
 "nbformat_minor": 5
}
